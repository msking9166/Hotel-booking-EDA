{
  "nbformat": 4,
  "nbformat_minor": 0,
  "metadata": {
    "colab": {
      "private_outputs": true,
      "provenance": [],
      "collapsed_sections": [
        "vncDsAP0Gaoa",
        "FJNUwmbgGyua",
        "w6K7xa23Elo4",
        "yQaldy8SH6Dl",
        "PH-0ReGfmX4f",
        "mDgbUHAGgjLW",
        "O_i_v8NEhb9l",
        "HhfV-JJviCcP",
        "Y3lxredqlCYt",
        "3RnN4peoiCZX",
        "x71ZqKXriCWQ",
        "7hBIi_osiCS2",
        "JlHwYmJAmNHm",
        "35m5QtbWiB9F",
        "PoPl-ycgm1ru",
        "H0kj-8xxnORC",
        "nA9Y7ga8ng1Z",
        "PBTbrJXOngz2",
        "u3PMJOP6ngxN",
        "dauF4eBmngu3",
        "bKJF3rekwFvQ",
        "MSa1f5Uengrz",
        "GF8Ens_Soomf",
        "0wOQAZs5pc--",
        "K5QZ13OEpz2H",
        "lQ7QKXXCp7Bj",
        "448CDAPjqfQr",
        "KSlN3yHqYklG",
        "t6dVpIINYklI",
        "ijmpgYnKYklI",
        "-JiQyfWJYklI",
        "EM7whBJCYoAo",
        "fge-S5ZAYoAp",
        "85gYPyotYoAp",
        "RoGjAbkUYoAp",
        "4Of9eVA-YrdM",
        "iky9q4vBYrdO",
        "F6T5p64dYrdO",
        "y-Ehk30pYrdP",
        "bamQiAODYuh1",
        "QHF8YVU7Yuh3",
        "GwzvFGzlYuh3",
        "qYpmQ266Yuh3",
        "OH-pJp9IphqM",
        "bbFf2-_FphqN",
        "_ouA3fa0phqN",
        "Seke61FWphqN",
        "PIIx-8_IphqN",
        "t27r6nlMphqO",
        "r2jJGEOYphqO",
        "b0JNsNcRphqO",
        "BZR9WyysphqO",
        "jj7wYXLtphqO",
        "eZrbJ2SmphqO",
        "rFu4xreNphqO",
        "YJ55k-q6phqO",
        "gCFgpxoyphqP",
        "OVtJsKN_phqQ",
        "lssrdh5qphqQ",
        "U2RJ9gkRphqQ",
        "1M8mcRywphqQ",
        "tgIPom80phqQ",
        "JMzcOPDDphqR",
        "x-EpHcCOp1ci",
        "X_VqEhTip1ck",
        "8zGJKyg5p1ck",
        "PVzmfK_Ep1ck",
        "n3dbpmDWp1ck",
        "ylSl6qgtp1ck",
        "ZWILFDl5p1ck",
        "M7G43BXep1ck",
        "Ag9LCva-p1cl",
        "E6MkPsBcp1cl",
        "2cELzS2fp1cl",
        "3MPXvC8up1cl",
        "NC_X3p0fY2L0",
        "UV0SzAkaZNRQ",
        "YPEH6qLeZNRQ",
        "q29F0dvdveiT",
        "EXh0U9oCveiU",
        "22aHeOlLveiV",
        "JcMwzZxoAimU",
        "8G2x9gOozGDZ",
        "gCX9965dhzqZ",
        "gIfDvo9L0UH2"
      ]
    },
    "kernelspec": {
      "name": "python3",
      "display_name": "Python 3"
    },
    "language_info": {
      "name": "python"
    }
  },
  "cells": [
    {
      "cell_type": "markdown",
      "source": [
        "# **Project Name**    -\n",
        "\n"
      ],
      "metadata": {
        "id": "vncDsAP0Gaoa"
      }
    },
    {
      "cell_type": "markdown",
      "source": [
        "##### **Project Type**    -  Hotel  booking EDA\n",
        "##### **Contribution**    - Individual"
      ],
      "metadata": {
        "id": "beRrZCGUAJYm"
      }
    },
    {
      "cell_type": "markdown",
      "source": [
        "# **Project Summary -**"
      ],
      "metadata": {
        "id": "FJNUwmbgGyua"
      }
    },
    {
      "cell_type": "markdown",
      "source": [
        "\n",
        "**Objective**: To analyze the hotel booking dataset to uncover insights that can inform business decisions, optimize hotel booking strategies, and enhance customer satisfaction.\n",
        "\n",
        "**Key Questions:**\n",
        "\n",
        "**Booking Patterns:** What are the peak months for bookings at the city hotel and the resort hotel?\n",
        "\n",
        "**Stay Duration:** How does the length of stay impact the daily rate and overall revenue?\n",
        "\n",
        "**Customer Preferences:** Are there any trends in special requests made by guests?\n",
        "\n",
        "**Resource Allocation:** How can the hotel optimize the use of parking spaces based on booking data?\n",
        "\n",
        "**Data Set Overview:** The dataset includes booking information for a city hotel and a resort hotel, with variables such as booking date, length of stay, number of guests (adults, children, babies), and parking space availability.\n",
        "\n",
        "**Methodology:**\n",
        "\n",
        "**Data Cleaning:** Remove duplicates, handle missing values, and ensure data consistency.\n",
        "\n",
        "**Data Visualization:** Use graphs and charts to visualize booking trends, stay duration, and special requests.\n",
        "\n",
        "\n",
        "\n",
        "**Expected Outcomes**\n",
        "\n",
        "**Optimal Booking Times:** Identify the best times of year to promote bookings.\n",
        "\n",
        "**Rate Strategies:** Determine optimal pricing strategies based on stay duration.\n",
        "\n",
        "**Special Requests Insights:** Understand the factors influencing special requests to improve guest experience.\n",
        "\n",
        "Parking Utilization: Provide recommendations for efficient parking space management.\n",
        "\n",
        "**Business Impact:** The insights gained from this EDA will enable the hotel to tailor its marketing efforts, price its rooms more effectively, and enhance guest satisfaction, ultimately leading to increased profitability.\n",
        "\n",
        "**Conclusion:** This EDA project aims to provide actionable insights that align with the business context, helping the hotel to make data-driven decisions that improve operational efficiency and customer experience.\n",
        "\n"
      ],
      "metadata": {
        "id": "F6v_1wHtG2nS"
      }
    },
    {
      "cell_type": "markdown",
      "source": [
        "# **GitHub Link -**"
      ],
      "metadata": {
        "id": "w6K7xa23Elo4"
      }
    },
    {
      "cell_type": "markdown",
      "source": [],
      "metadata": {
        "id": "h1o69JH3Eqqn"
      }
    },
    {
      "cell_type": "markdown",
      "source": [
        "# **Problem Statement**\n"
      ],
      "metadata": {
        "id": "yQaldy8SH6Dl"
      }
    },
    {
      "cell_type": "markdown",
      "source": [
        "\n",
        "\n",
        "# Problem Statement:\n",
        "\n",
        "\n",
        "In the competitive hospitality industry, understanding customer behavior and optimizing hotel operations are crucial for success. The hotel booking dataset presents an opportunity to analyze various factors that influence booking patterns and guest preferences. However, the challenge lies in extracting meaningful insights from this data that can directly impact business strategies and outcomes.\n",
        "\n",
        "The primary problem is to determine the most influential factors affecting hotel bookings and revenue. This includes identifying the optimal times for room promotions, understanding the impact of stay duration on daily rates, predicting the likelihood of special requests, and managing resources like parking spaces effectively.\n",
        "\n",
        "The goal is to leverage Exploratory Data Analysis (EDA) to:\n",
        "\n",
        "\n",
        "*   Analyze the dataset to identify trends and patterns in hotel bookings.\n",
        "\n",
        "*   \n",
        "Understand the relationship between booking details (such as booking time, length of stay, number of guests) and hotel revenue.   \n",
        "\n",
        "\n",
        "\n",
        "\n",
        "*   Predict factors that lead to a higher number of special requests.\n",
        "\n",
        "*   Provide actionable insights that can be used to formulate strategies to increase occupancy rates, optimize pricing, and enhance guest satisfaction.\n",
        "\n",
        "By addressing this problem, the hotel aims to improve its operational efficiency, create targeted marketing campaigns, and ultimately increase profitability while providing a superior customer experience."
      ],
      "metadata": {
        "id": "DpeJGUA3kjGy"
      }
    },
    {
      "cell_type": "markdown",
      "source": [
        "#### **Define Your Business Objective?**"
      ],
      "metadata": {
        "id": "PH-0ReGfmX4f"
      }
    },
    {
      "cell_type": "markdown",
      "source": [
        "Certainly! The business objectives for the hotel booking dataset analysis project can be defined as follows:\n",
        "\n",
        "**Business Objectives:**\n",
        "\n",
        "1. **Maximize Revenue:**\n",
        "   - To identify strategies that maximize room occupancy and average daily rates throughout the year.\n",
        "   - To optimize pricing models based on demand and booking patterns.\n",
        "\n",
        "2. **Enhance Customer Experience:**\n",
        "   - To understand guest preferences and tailor services to enhance satisfaction.\n",
        "   - To predict and fulfill special requests more effectively, thereby improving guest loyalty.\n",
        "\n",
        "3. **Operational Efficiency:**\n",
        "   - To allocate resources such as parking spaces and staff based on predictive analysis of booking data.\n",
        "   - To reduce overbooking and underbooking through better demand forecasting.\n",
        "\n",
        "4. **Strategic Marketing:**\n",
        "   - To create targeted marketing campaigns for different customer segments based on booking trends.\n",
        "   - To identify the best times for promotional offers to attract more guests.\n",
        "\n",
        "5. **Competitive Analysis:**\n",
        "   - To benchmark against competitors by understanding industry trends and customer expectations.\n",
        "   - To identify unique selling propositions (USPs) that set the hotel apart in the market.\n",
        "\n",
        "6. **Data-Driven Decision Making:**\n",
        "   - To establish a culture of data-driven decision making within the hotel management.\n",
        "   - To use insights from data to inform policy and strategic decisions.\n",
        "\n",
        "These objectives aim to leverage the insights gained from the Exploratory Data Analysis (EDA) to drive growth, improve customer satisfaction, and ensure the hotel's competitive edge in the hospitality industry."
      ],
      "metadata": {
        "id": "PhDvGCAqmjP1"
      }
    },
    {
      "cell_type": "markdown",
      "source": [
        "# **General Guidelines** : -  "
      ],
      "metadata": {
        "id": "mDgbUHAGgjLW"
      }
    },
    {
      "cell_type": "markdown",
      "source": [
        "1.   Well-structured, formatted, and commented code is required.\n",
        "2.   Exception Handling, Production Grade Code & Deployment Ready Code will be a plus. Those students will be awarded some additional credits.\n",
        "     \n",
        "     The additional credits will have advantages over other students during Star Student selection.\n",
        "       \n",
        "             [ Note: - Deployment Ready Code is defined as, the whole .ipynb notebook should be executable in one go\n",
        "                       without a single error logged. ]\n",
        "\n",
        "3.   Each and every logic should have proper comments.\n",
        "4. You may add as many number of charts you want. Make Sure for each and every chart the following format should be answered.\n",
        "        \n",
        "\n",
        "```\n",
        "# Chart visualization code\n",
        "```\n",
        "            \n",
        "\n",
        "*   Why did you pick the specific chart?\n",
        "*   What is/are the insight(s) found from the chart?\n",
        "* Will the gained insights help creating a positive business impact?\n",
        "Are there any insights that lead to negative growth? Justify with specific reason.\n",
        "\n",
        "5. You have to create at least 20 logical & meaningful charts having important insights.\n",
        "\n",
        "\n",
        "[ Hints : - Do the Vizualization in  a structured way while following \"UBM\" Rule.\n",
        "\n",
        "U - Univariate Analysis,\n",
        "\n",
        "B - Bivariate Analysis (Numerical - Categorical, Numerical - Numerical, Categorical - Categorical)\n",
        "\n",
        "M - Multivariate Analysis\n",
        " ]\n",
        "\n",
        "\n",
        "\n"
      ],
      "metadata": {
        "id": "ZrxVaUj-hHfC"
      }
    },
    {
      "cell_type": "markdown",
      "source": [
        "# ***Let's Begin !***"
      ],
      "metadata": {
        "id": "O_i_v8NEhb9l"
      }
    },
    {
      "cell_type": "markdown",
      "source": [
        "## ***1. Know Your Data***"
      ],
      "metadata": {
        "id": "HhfV-JJviCcP"
      }
    },
    {
      "cell_type": "markdown",
      "source": [
        "### Import Libraries"
      ],
      "metadata": {
        "id": "Y3lxredqlCYt"
      }
    },
    {
      "cell_type": "code",
      "source": [
        "# Import Libraries\n",
        "\n",
        "import pandas as pd\n",
        "import numpy as np\n",
        "import matplotlib.pyplot as plt\n",
        "import seaborn as sns"
      ],
      "metadata": {
        "id": "M8Vqi-pPk-HR"
      },
      "execution_count": null,
      "outputs": []
    },
    {
      "cell_type": "markdown",
      "source": [
        "### Dataset Loading"
      ],
      "metadata": {
        "id": "3RnN4peoiCZX"
      }
    },
    {
      "cell_type": "code",
      "source": [
        "# Load Dataset\n",
        "from google.colab import drive\n",
        "\n",
        "drive.mount('/content/drive')\n",
        "path = '/content/drive/MyDrive/Hotel.csv'\n",
        "\n",
        "data = pd.read_csv(path)\n"
      ],
      "metadata": {
        "id": "4CkvbW_SlZ_R"
      },
      "execution_count": null,
      "outputs": []
    },
    {
      "cell_type": "markdown",
      "source": [
        "### Dataset First View"
      ],
      "metadata": {
        "id": "x71ZqKXriCWQ"
      }
    },
    {
      "cell_type": "code",
      "source": [
        "# Dataset First Look\n",
        "\n",
        "data.head(10)\n"
      ],
      "metadata": {
        "id": "LWNFOSvLl09H"
      },
      "execution_count": null,
      "outputs": []
    },
    {
      "cell_type": "markdown",
      "source": [
        "### Dataset Rows & Columns count"
      ],
      "metadata": {
        "id": "7hBIi_osiCS2"
      }
    },
    {
      "cell_type": "code",
      "source": [
        "# Dataset Rows & Columns count\n",
        "data.shape"
      ],
      "metadata": {
        "id": "Kllu7SJgmLij"
      },
      "execution_count": null,
      "outputs": []
    },
    {
      "cell_type": "markdown",
      "source": [
        "### Dataset Information"
      ],
      "metadata": {
        "id": "JlHwYmJAmNHm"
      }
    },
    {
      "cell_type": "code",
      "source": [
        "# Dataset data type\n",
        "\n",
        "data.dtypes\n"
      ],
      "metadata": {
        "id": "b-nh9e_BW3hR"
      },
      "execution_count": null,
      "outputs": []
    },
    {
      "cell_type": "code",
      "source": [
        "# Dataset Info\n",
        "data.info()\n"
      ],
      "metadata": {
        "id": "e9hRXRi6meOf"
      },
      "execution_count": null,
      "outputs": []
    },
    {
      "cell_type": "markdown",
      "source": [
        "#### Duplicate Values"
      ],
      "metadata": {
        "id": "35m5QtbWiB9F"
      }
    },
    {
      "cell_type": "code",
      "source": [
        "# Dataset Duplicate Value Count\n",
        "data.duplicated().value_counts()\n"
      ],
      "metadata": {
        "id": "1sLdpKYkmox0"
      },
      "execution_count": null,
      "outputs": []
    },
    {
      "cell_type": "markdown",
      "source": [
        "#### Missing Values/Null Values"
      ],
      "metadata": {
        "id": "PoPl-ycgm1ru"
      }
    },
    {
      "cell_type": "code",
      "source": [
        "# Missing Values/Null Values Count\n",
        "missing_df =data.isnull().sum().sort_values(ascending = False)\n",
        "\n",
        "missing_df\n"
      ],
      "metadata": {
        "id": "GgHWkxvamxVg"
      },
      "execution_count": null,
      "outputs": []
    },
    {
      "cell_type": "code",
      "source": [
        "# Visualizing the missing values\n",
        "plt.figure(figsize= (16,7))\n",
        "sns.heatmap(data.isnull(), cbar=False,cmap='viridis')\n",
        "plt.show()"
      ],
      "metadata": {
        "id": "3q5wnI3om9sJ"
      },
      "execution_count": null,
      "outputs": []
    },
    {
      "cell_type": "markdown",
      "source": [
        "### What did you know about your dataset?"
      ],
      "metadata": {
        "id": "H0kj-8xxnORC"
      }
    },
    {
      "cell_type": "markdown",
      "source": [
        "\n",
        "\n",
        "1. **Dataset Structure:** The dataset comprises **119,390 rows** and **32 columns**, providing a substantial volume of data for analysis.\n",
        "\n",
        "2. **Data Types:** The dataset features a diverse range of data types, including **integers**, **floats**, and **objects (strings)**, which facilitates a multifaceted approach to data analysis.\n",
        "\n",
        "3. **Duplicate Entries:** There are **31994 duplicate values** present within the dataset, indicating a significant level of redundancy that may require deduplication for accurate analysis.\n",
        "\n",
        "4. **Missing Values:** The dataset exhibits missing values across three key columns:\n",
        "   - **Country Column:** There are **488 missing entries**, suggesting gaps in geographical data.\n",
        "   - **Agent Column:** A notable **16,340 entries are missing**, which could impact the analysis of booking sources.\n",
        "   - **County Column:** There is a substantial number of missing values, amounting to **112,593\n",
        "   - **Children Column:** There is a substantial number of missing values, amounting to **4\n",
        "\n",
        "\n",
        "\n",
        "\n",
        "\n",
        "\n",
        "\n",
        "\n",
        "\n",
        "\n"
      ],
      "metadata": {
        "id": "gfoNAAC-nUe_"
      }
    },
    {
      "cell_type": "markdown",
      "source": [
        "## ***2. Understanding Your Variables***"
      ],
      "metadata": {
        "id": "nA9Y7ga8ng1Z"
      }
    },
    {
      "cell_type": "code",
      "source": [
        "# Dataset Columns\n",
        "data.columns\n"
      ],
      "metadata": {
        "id": "j7xfkqrt5Ag5"
      },
      "execution_count": null,
      "outputs": []
    },
    {
      "cell_type": "code",
      "source": [
        "# Dataset Describe\n",
        "data.describe()"
      ],
      "metadata": {
        "id": "DnOaZdaE5Q5t"
      },
      "execution_count": null,
      "outputs": []
    },
    {
      "cell_type": "markdown",
      "source": [
        " description of the variables in the dataset\n",
        "\n",
        "1. **`hotel`**: Type of hotel (e.g., \"Resort Hotel\" or \"City Hotel\").\n",
        "2. **`is_canceled`**: Binary variable indicating whether the booking was canceled (1) or not (0).\n",
        "3. **`lead_time`**: Number of days between booking date and arrival date.\n",
        "4. **`arrival_date_year`**: Year of arrival date.\n",
        "5. **`arrival_date_month`**: Month of arrival date.\n",
        "6. **`arrival_date_week_number`**: Week number of arrival date.\n",
        "7. **`arrival_date_day_of_month`**: Day of the month of arrival date.\n",
        "8. **`stays_in_weekend_nights`**: Number of weekend nights (Saturday or Sunday) the guest stayed.\n",
        "9. **`stays_in_week_nights`**: Number of weekday nights (Monday to Friday) the guest stayed.\n",
        "10. **`adults`**: Number of adults.\n",
        "11. **`children`**: Number of children.\n",
        "12. **`babies`**: Number of babies.\n",
        "13. **`meal`**: Type of meal booked (e.g., \"BB\" for Bed & Breakfast).\n",
        "14. **`country`**: Country of origin of the guest.\n",
        "15. **`market_segment`**: Market segment designation (e.g., \"Online TA\" for Online Travel Agents).\n",
        "16. **`distribution_channel`**: Booking distribution channel (e.g., \"Direct\" or \"Corporate\").\n",
        "17. **`is_repeated_guest`**: Binary variable indicating whether the guest is a repeated guest (1) or not (0).\n",
        "18. **`previous_cancellations`**: Number of previous bookings canceled by the guest.\n",
        "19. **`previous_bookings_not_canceled`**: Number of previous bookings not canceled by the guest.\n",
        "20. **`reserved_room_type`**: Code for the type of room reserved.\n",
        "21. **`assigned_room_type`**: Code for the type of room assigned at check-in.\n",
        "22. **`booking_changes`**: Number of changes made to the booking.\n",
        "23. **`deposit_type`**: Type of deposit made (e.g., \"No Deposit\" or \"Non Refund\").\n",
        "24. **`agent`**: ID of the travel agency that made the booking.\n",
        "25. **`company`**: ID of the company or entity that made the booking.\n",
        "26. **`days_in_waiting_list`**: Number of days the booking was in the waiting list before being confirmed.\n",
        "27. **`customer_type`**: Type of booking (e.g., \"Transient\" or \"Contract\").\n",
        "28. **`adr`**: Average Daily Rate (price per room).\n",
        "29. **`required_car_parking_spaces`**: Number of car parking spaces required by the guest.\n",
        "30. **`total_of_special_requests`**: Total number of special requests made by the guest.\n",
        "31. **`reservation_status`**: Current status of the reservation (e.g., \"Check-Out\").\n",
        "32. **`reservation_status_date`**: Date when the reservation status was last updated.\n",
        "\n"
      ],
      "metadata": {
        "id": "PBTbrJXOngz2"
      }
    },
    {
      "cell_type": "markdown",
      "source": [
        "Answer Here"
      ],
      "metadata": {
        "id": "aJV4KIxSnxay"
      }
    },
    {
      "cell_type": "markdown",
      "source": [
        "### Check Unique Values for each variable."
      ],
      "metadata": {
        "id": "u3PMJOP6ngxN"
      }
    },
    {
      "cell_type": "code",
      "source": [
        "# Check Unique Values for each variable.\n",
        "\n",
        "print(data.apply(lambda col: col.unique()))"
      ],
      "metadata": {
        "id": "zms12Yq5n-jE"
      },
      "execution_count": null,
      "outputs": []
    },
    {
      "cell_type": "markdown",
      "source": [
        "## 3. ***Data Wrangling***"
      ],
      "metadata": {
        "id": "dauF4eBmngu3"
      }
    },
    {
      "cell_type": "markdown",
      "source": [
        "### Data Wrangling Code"
      ],
      "metadata": {
        "id": "bKJF3rekwFvQ"
      }
    },
    {
      "cell_type": "code",
      "source": [
        "#Handling the missing value\n",
        "data.isnull().sum().sort_values(ascending= False  )\n"
      ],
      "metadata": {
        "id": "yOdDNMWqrcq2"
      },
      "execution_count": null,
      "outputs": []
    },
    {
      "cell_type": "code",
      "source": [
        "#Fill the mising value\n",
        "data[['company','agent','children']] = data[['company','agent','children']].fillna(0).inplace =True\n",
        "data[['country']] = data[['country']].fillna('others').inplace =True\n",
        "\n"
      ],
      "metadata": {
        "id": "i_yAF1QasA1c"
      },
      "execution_count": null,
      "outputs": []
    },
    {
      "cell_type": "code",
      "source": [
        "#check the missing value\n",
        "\n",
        "data.isnull().sum().sort_values(ascending= False  )\n"
      ],
      "metadata": {
        "id": "qu8jHym8tB6q"
      },
      "execution_count": null,
      "outputs": []
    },
    {
      "cell_type": "code",
      "source": [
        "#removing the dupplicated value\n",
        "len(data[data.duplicated()])\n",
        "data = data.drop_duplicates()"
      ],
      "metadata": {
        "id": "cJUpfQ8atqt9"
      },
      "execution_count": null,
      "outputs": []
    },
    {
      "cell_type": "code",
      "source": [
        "data.shape"
      ],
      "metadata": {
        "id": "qvTFVrX3uG1e"
      },
      "execution_count": null,
      "outputs": []
    },
    {
      "cell_type": "code",
      "source": [
        "# Adding total staying days in hotels\n",
        "data['total_stay'] = data['stays_in_weekend_nights']+data['stays_in_week_nights']\n",
        "\n",
        "# Adding total people num as a column\n",
        "data['total_member'] = data['adults']+data['children']+data['babies']\n",
        "\n",
        "\n",
        "# Adding total child  num as a column\n",
        "data['child'] = data['children']+data['babies']"
      ],
      "metadata": {
        "id": "is_xQ-73t461"
      },
      "execution_count": null,
      "outputs": []
    },
    {
      "cell_type": "markdown",
      "source": [
        "### What all manipulations have you done and insights you found?"
      ],
      "metadata": {
        "id": "MSa1f5Uengrz"
      }
    },
    {
      "cell_type": "markdown",
      "source": [
        "\n",
        "\n",
        "- The dataset initially contained **31,994 duplicate entries**. These duplicates were identified and subsequently removed to ensure the integrity of the analysis.\n",
        "- We encountered missing data in four pivotal columns: **'company'**, **'agent'**, **'country'**, and **'children'**. To maintain dataset consistency, these missing values were replaced with zeros.\n",
        "- To enhance the dataset's utility for further analysis, two new columns were introduced: **'total_stay'**, representing the total duration of each stay, and **'total_people'**, indicating the total number of individuals (adults, children, and babies) per booking.\n",
        "\n"
      ],
      "metadata": {
        "id": "LbyXE7I1olp8"
      }
    },
    {
      "cell_type": "markdown",
      "source": [
        "## ***4. Data Vizualization, Storytelling & Experimenting with charts : Understand the relationships between variables***"
      ],
      "metadata": {
        "id": "GF8Ens_Soomf"
      }
    },
    {
      "cell_type": "markdown",
      "source": [
        "#### **Chart - 1  - Which type of hotel is mostly prefered by the guests?**\n"
      ],
      "metadata": {
        "id": "0wOQAZs5pc--"
      }
    },
    {
      "cell_type": "code",
      "source": [
        "#plotitng the plot\n",
        "data['hotel'].value_counts().plot.pie(explode=[0.02, 0.02], autopct ='%1.2f%%',figsize=(10,7), fontsize = 15)\n",
        "\n",
        "#create the lable\n",
        "\n",
        "plt.title('Pie Chart for Most Preferred Hotel', fontsize = 20)\n",
        "\n",
        "#plot\n",
        "\n",
        "plt.show()\n"
      ],
      "metadata": {
        "id": "d6Vdf4Ut0N2z"
      },
      "execution_count": null,
      "outputs": []
    },
    {
      "cell_type": "markdown",
      "source": [
        "##### 1. Why did you pick the specific chart?"
      ],
      "metadata": {
        "id": "K5QZ13OEpz2H"
      }
    },
    {
      "cell_type": "markdown",
      "source": [
        "I selected the pie chart as it effectively displays the percentage distribution of preferred hotels. This type of chart excels at illustrating the proportional breakdown of categorical data, allowing for a clear comparison of each category against the whole, which is represented as 100%."
      ],
      "metadata": {
        "id": "XESiWehPqBRc"
      }
    },
    {
      "cell_type": "markdown",
      "source": [
        "##### 2. What is/are the insight(s) found from the chart?\n",
        "\n"
      ],
      "metadata": {
        "id": "lQ7QKXXCp7Bj"
      }
    },
    {
      "cell_type": "markdown",
      "source": [
        "Answer Here\n",
        "\n",
        "\n",
        "### We can see that the percent of City hotel is more compared to Resort hotel.\n",
        "### Resort Hotel tend to be on the expensive side and most people will just stick with city hotel."
      ],
      "metadata": {
        "id": "C_j1G7yiqdRP"
      }
    },
    {
      "cell_type": "markdown",
      "source": [
        "##### 3. Will the gained insights help creating a positive business impact?\n",
        "Are there any insights that lead to negative growth? Justify with specific reason."
      ],
      "metadata": {
        "id": "448CDAPjqfQr"
      }
    },
    {
      "cell_type": "markdown",
      "source": [],
      "metadata": {
        "id": "TAE-0LrRLR7f"
      }
    },
    {
      "cell_type": "markdown",
      "source": [
        "Answer Here\n",
        "\n",
        "The insights you've gained from the data can indeed have a significant impact on business strategies. Let's explore how:\n",
        "\n",
        "**Positive Business Impact:**\n",
        "- **Market Demand Understanding**: The higher percentage of City hotel preference indicates a strong market demand for this type of accommodation. Businesses can capitalize on this by investing in City hotels or tailoring marketing strategies to highlight the benefits of City hotels.\n",
        "- **Cost-Effective Solutions**: Since City hotels are generally perceived as more cost-effective than Resort hotels, promoting City hotels can attract a broader customer base looking for affordable lodging options.\n",
        "\n",
        "**Potential Negative Growth Insights:**\n",
        "- **Overlooking Niche Markets**: While the majority may prefer City hotels, there may be a niche market for Resort hotels that's being overlooked. If businesses focus solely on City hotels, they might miss out on the opportunity to cater to those willing to pay a premium for Resort hotels.\n",
        "- **Price Sensitivity**: The preference for City hotels might also indicate a price-sensitive market. If the economic situation changes, such as an increase in disposable income, the same customers might opt for more luxurious accommodations, leading to a shift in market dynamics.\n",
        "\n"
      ],
      "metadata": {
        "id": "3cspy4FjqxJW"
      }
    },
    {
      "cell_type": "markdown",
      "source": [
        "#### Chart - 2 - Which month is very prefered by customer during the years"
      ],
      "metadata": {
        "id": "KSlN3yHqYklG"
      }
    },
    {
      "cell_type": "code",
      "source": [
        "#Booking group by as per month in both type of hotel\n",
        "Group_by_months = data.groupby(['arrival_date_month'])['hotel'].count().reset_index().rename(columns = {'hotel':'Counts'})\n",
        "\n",
        "#Creating the the mohth in order\n",
        "months = ['January', 'February', 'March', 'April', 'May', 'June', 'July', 'August', 'September', 'October', 'November', 'December']\n",
        "\n",
        "#Creating the order of the months with the data frame.\n",
        "\n",
        "Group_by_months['arrival_date_month'] = pd.Categorical(Group_by_months['arrival_date_month'], categories = months, ordered = True)\n",
        "\n",
        "#sorting the months\n",
        "\n",
        "\n",
        "Group_by_months = Group_by_months.sort_values('arrival_date_month')\n",
        "\n",
        "\n",
        "\n",
        "Group_by_months"
      ],
      "metadata": {
        "id": "da-qFq3LUkff"
      },
      "execution_count": null,
      "outputs": []
    },
    {
      "cell_type": "code",
      "source": [
        "#Visvulzise the months trends\n",
        "\n",
        "\n",
        "# Set plot size\n",
        "plt.figure(figsize = (14,6))\n",
        "# Plotting lineplot on x- months & y- bookings counts\n",
        "sns.lineplot(x = Group_by_months['arrival_date_month'], y = Group_by_months['Counts'])\n",
        "\n",
        "# Set title\n",
        "plt.title('Number of bookings across each month', fontsize = 20)\n",
        "\n",
        "# Set labels\n",
        "plt.xlabel('Month', fontsize = 16)\n",
        "plt.ylabel('Number of bookings', fontsize = 16)\n",
        "\n",
        "# To show\n",
        "plt.show()"
      ],
      "metadata": {
        "id": "hwxasS88Tx55"
      },
      "execution_count": null,
      "outputs": []
    },
    {
      "cell_type": "markdown",
      "source": [
        "##### 1. Why did you pick the specific chart?"
      ],
      "metadata": {
        "id": "t6dVpIINYklI"
      }
    },
    {
      "cell_type": "markdown",
      "source": [
        "I picked the line chart cuase line provide the full clearirt abount the trend over the time periods"
      ],
      "metadata": {
        "id": "5aaW0BYyYklI"
      }
    },
    {
      "cell_type": "markdown",
      "source": [
        "##### 2. What is/are the insight(s) found from the chart?\n",
        "\n",
        "Certainly! Here's a revised version of your insights:\n",
        "\n",
        "1. The line charts indicate that throughout the year, there is an upward trend in bookings from June through August, with these months showing the highest counts.\n",
        "\n",
        "2. August stands out as the month with the peak booking count for the year; however, there is a significant decline in bookings after August."
      ],
      "metadata": {
        "id": "ijmpgYnKYklI"
      }
    },
    {
      "cell_type": "markdown",
      "source": [
        "Answer Here"
      ],
      "metadata": {
        "id": "PSx9atu2YklI"
      }
    },
    {
      "cell_type": "markdown",
      "source": [
        "##### 3. Will the gained insights help creating a positive business impact?\n",
        "Are there any insights that lead to negative growth? Justify with specific reason."
      ],
      "metadata": {
        "id": "-JiQyfWJYklI"
      }
    },
    {
      "cell_type": "markdown",
      "source": [
        "Answer Here\n",
        "The insights gained from the booking trends can indeed create a positive business impact. By identifying the peak booking months of June through August, with August being the highest, businesses can optimize their marketing strategies, staffing, and inventory to capitalize on this period. Special promotions or events can be planned to further boost bookings during these months.\n",
        "\n",
        "On the other hand, the significant drop in bookings after August could potentially lead to negative growth if not addressed properly. This insight is crucial as it allows businesses to prepare for the off-peak season by adjusting their operational costs and exploring alternative revenue streams to maintain a steady cash flow. For instance, they could offer off-season discounts or target different customer segments to mitigate the impact of the booking decline.\n",
        "\n",
        "In summary, while the insights highlight a period of high demand that can be leveraged for positive growth, they also reveal a subsequent downturn that requires strategic planning to prevent negative growth."
      ],
      "metadata": {
        "id": "BcBbebzrYklV"
      }
    },
    {
      "cell_type": "markdown",
      "source": [
        "#### Chart - 3 = In a months what is the distriubation of the arrival"
      ],
      "metadata": {
        "id": "EM7whBJCYoAo"
      }
    },
    {
      "cell_type": "code",
      "source": [
        "#Set the plot size\n",
        "\n",
        "plt.figure(figsize=(15,6))\n",
        "\n",
        "#code for visulization\n",
        "sns.countplot(data = data, x = 'arrival_date_day_of_month', hue='hotel', palette='pastel')\n",
        "\n",
        "#plot show\n",
        "plt.show()\n"
      ],
      "metadata": {
        "id": "t6GMdE67YoAp"
      },
      "execution_count": null,
      "outputs": []
    },
    {
      "cell_type": "markdown",
      "source": [
        "##### 1. Why did you pick the specific chart?"
      ],
      "metadata": {
        "id": "fge-S5ZAYoAp"
      }
    },
    {
      "cell_type": "markdown",
      "source": [
        "We pick the bar plot cause we have discrte data for the day of aariaval for the dicreate data type bar plot give good clarity"
      ],
      "metadata": {
        "id": "5dBItgRVYoAp"
      }
    },
    {
      "cell_type": "markdown",
      "source": [
        "##### 2. What is/are the insight(s) found from the chart?"
      ],
      "metadata": {
        "id": "85gYPyotYoAp"
      }
    },
    {
      "cell_type": "markdown",
      "source": [
        "\n",
        "1. At the end of each month, there is a noticeable decrease in arrivals compared to other months.\n",
        "2. City hotels experience a higher number of arrivals compared to resort hotels."
      ],
      "metadata": {
        "id": "4jstXR6OYoAp"
      }
    },
    {
      "cell_type": "markdown",
      "source": [
        "##### 3. Will the gained insights help creating a positive business impact?\n",
        "Are there any insights that lead to negative growth? Justify with specific reason."
      ],
      "metadata": {
        "id": "RoGjAbkUYoAp"
      }
    },
    {
      "cell_type": "markdown",
      "source": [
        "The insights provided can certainly contribute to a positive business impact. Knowing that there is a lower arrival rate at the end of each month allows businesses to plan targeted marketing campaigns or special offers to boost arrivals during these typically slower periods.\n",
        "\n",
        "Regarding the second insight, the fact that city hotels have more arrivals than resort hotels can inform strategic decisions. For instance, businesses could focus on enhancing the appeal of resort hotels or adjusting pricing strategies to attract more guests.\n",
        "\n",
        "However, these insights could also indicate areas of potential negative growth. The lower end-of-month arrivals might suggest a recurring pattern of decreased revenue during these periods, which could impact overall profitability if not addressed. Similarly, if a business primarily operates resort hotels, the higher arrival rates at city hotels could represent a competitive disadvantage and lead to negative growth for the resort sector.\n",
        "\n"
      ],
      "metadata": {
        "id": "zfJ8IqMcYoAp"
      }
    },
    {
      "cell_type": "markdown",
      "source": [
        "#### Chart - 4 - Number of adults in both hotels and Adults vs Cancelations"
      ],
      "metadata": {
        "id": "4Of9eVA-YrdM"
      }
    },
    {
      "cell_type": "code",
      "source": [
        "\n",
        "#Plot the size of plotter\n",
        "plt.figure(figsize=(15, 8))\n",
        "plt.subplot(1, 2, 1)\n",
        "#code for visulization\n",
        "sns.countplot(x='adults',hue='hotel', data=data, palette='pastel')\n",
        "plt.title(\"Number of adults in both hotels\",fontweight=\"bold\", size=20)\n",
        "plt.subplot(1, 2, 2)\n",
        "sns.countplot(data = data, x = 'adults', hue='is_canceled', palette='husl')\n",
        "plt.title('Adults vs Cancelations',fontweight=\"bold\", size=20)\n",
        "\n",
        "\n",
        "#Plot of the plotter\n",
        "plt.show()"
      ],
      "metadata": {
        "id": "irlUoxc8YrdO"
      },
      "execution_count": null,
      "outputs": []
    },
    {
      "cell_type": "markdown",
      "source": [
        "##### 1. Why did you pick the specific chart?"
      ],
      "metadata": {
        "id": "iky9q4vBYrdO"
      }
    },
    {
      "cell_type": "markdown",
      "source": [
        "When comparing two types of hotels and the number of adults preferring each, a count chart visually represents these numbers in a clear and comparative manner, making it easy to see which category is more popular.\n",
        "\n",
        "\n",
        "\n"
      ],
      "metadata": {
        "id": "aJRCwT6DYrdO"
      }
    },
    {
      "cell_type": "markdown",
      "source": [
        "##### 2. What is/are the insight(s) found from the chart?"
      ],
      "metadata": {
        "id": "F6T5p64dYrdO"
      }
    },
    {
      "cell_type": "markdown",
      "source": [
        "\n",
        "A pair of adults showed a greater preference for city hotels over resort hotels. Moreover, a significant portion, exceeding half of the guests, opted to cancel their reservations."
      ],
      "metadata": {
        "id": "Xx8WAJvtYrdO"
      }
    },
    {
      "cell_type": "markdown",
      "source": [
        "##### 3. Will the gained insights help creating a positive business impact?\n",
        "Are there any insights that lead to negative growth? Justify with specific reason."
      ],
      "metadata": {
        "id": "y-Ehk30pYrdP"
      }
    },
    {
      "cell_type": "markdown",
      "source": [
        "Positive Business Impact: The preference for city hotels over resort hotels by a pair of adults suggests that city hotels may be more appealing to certain demographics. This insight could help hoteliers and marketers to tailor their services and marketing strategies to attract similar guests, potentially leading to increased occupancy rates and revenue for city hotels.\n",
        "Negative Growth Insight: The fact that more than half of the guests canceled their reservations could indicate underlying issues with customer satisfaction or the booking process. This insight, while negative, is valuable as it highlights an area for improvement. Addressing the reasons behind these cancellations could lead to better retention rates and a more positive guest experience."
      ],
      "metadata": {
        "id": "jLNxxz7MYrdP"
      }
    },
    {
      "cell_type": "markdown",
      "source": [
        "#### Chart - 5 - Number of Weekand Stay and number cancelation vs Week Stay"
      ],
      "metadata": {
        "id": "bamQiAODYuh1"
      }
    },
    {
      "cell_type": "code",
      "source": [
        "# Chart - 5 visualization\n",
        "\n",
        "#Plot the size of plotter\n",
        "\n",
        "plt.figure(figsize=(15, 8))\n",
        "plt.subplot(1, 2, 1)\n",
        "#Code for the viavualzation\n",
        "sns.countplot(x='stays_in_week_nights',hue='hotel', data=data, palette='rainbow_r')\n",
        "plt.title(\"Number of stays on weekday nights\",fontweight=\"bold\", size=20)\n",
        "plt.subplot(1, 2, 2)\n",
        "\n",
        "#Code for the viavualzation\n",
        "\n",
        "sns.countplot(data = data, x = 'stays_in_week_nights', hue='is_canceled', palette='magma_r')\n",
        "plt.title('WeekStay vs Cancelations',fontweight=\"bold\", size=20)\n",
        "plt.subplots_adjust(right=2)\n",
        "#Plot the Visvulzation\n",
        "plt.show()"
      ],
      "metadata": {
        "id": "TIJwrbroYuh3"
      },
      "execution_count": null,
      "outputs": []
    },
    {
      "cell_type": "markdown",
      "source": [
        "##### 1. Why did you pick the specific chart?"
      ],
      "metadata": {
        "id": "QHF8YVU7Yuh3"
      }
    },
    {
      "cell_type": "markdown",
      "source": [
        "\n",
        "\"I utilized a bar plot to examine the frequency of weekend night stays and the cancellation  for weekday stays. This bar plot effectively displays categorical data, allowing for a straightforward visualization of customer counts.\""
      ],
      "metadata": {
        "id": "dcxuIMRPYuh3"
      }
    },
    {
      "cell_type": "markdown",
      "source": [
        "##### 2. What is/are the insight(s) found from the chart?"
      ],
      "metadata": {
        "id": "GwzvFGzlYuh3"
      }
    },
    {
      "cell_type": "markdown",
      "source": [
        "Certainly! Here's a more concise and improved version of your insights:\n",
        "\n",
        "1. **Two-Day Stays**: The maximum count of stays occurs for two days, indicating that customers often prefer this duration.\n",
        "2. **Resort Preference**: Customers tend to prefer resort hotels for longer stays (more than four days).\n",
        "3. **Cancellation Trends**: High cancellation rates are observed for stays lasting one  or two days."
      ],
      "metadata": {
        "id": "uyqkiB8YYuh3"
      }
    },
    {
      "cell_type": "markdown",
      "source": [
        "##### 3. Will the gained insights help creating a positive business impact?\n",
        "Are there any insights that lead to negative growth? Justify with specific reason."
      ],
      "metadata": {
        "id": "qYpmQ266Yuh3"
      }
    },
    {
      "cell_type": "markdown",
      "source": [
        "\n",
        "\n",
        "```\n",
        "```\n",
        "\n",
        "Certainly! Let's analyze the insights and address the questions:\n",
        "\n",
        "1. **Positive Business Impact**:\n",
        "   - The insight that customers prefer **two-day stays** can be leveraged to create targeted marketing campaigns or special offers for this duration. Promoting weekend packages or discounts for two-day bookings could attract more customers.\n",
        "   - Additionally, the preference for **resort hotels** for longer stays (more than four days) suggests an opportunity to enhance resort amenities and services. Focusing on customer satisfaction during extended stays can lead to positive reviews and repeat business.\n",
        "\n",
        "2. **Negative Growth Considerations**:\n",
        "   - The high **cancellation rates** observed for stays lasting **two or three days** are concerning. This could impact revenue and occupancy rates. To mitigate this, the hotel management should investigate the reasons behind cancellations during these durations.\n",
        "   - Possible reasons for cancellations might include pricing, room availability, or customer dissatisfaction. Addressing these issues could help reduce cancellations and improve overall business performance.\n",
        "\n",
        "Remember, understanding customer behavior and acting on these insights strategically can significantly impact business outcomes"
      ],
      "metadata": {
        "id": "_WtzZ_hCYuh4"
      }
    },
    {
      "cell_type": "markdown",
      "source": [
        "#### Chart - 6 - Number of adults in the hotel  and Adult VS cancelations  "
      ],
      "metadata": {
        "id": "OH-pJp9IphqM"
      }
    },
    {
      "cell_type": "code",
      "source": [
        "# Chart - 6 visualization code\n",
        "#Plot the size of plotter\n",
        "plt.figure(figsize=(15, 8))\n",
        "#Sub set plot\n",
        "plt.subplot(1, 2, 1)\n",
        "\n",
        "#Code for the plot\n",
        "sns.countplot(x='adults',hue='hotel', data=data, palette='coolwarm')\n",
        "plt.title(\"Number of adults in both hotels\",fontweight=\"bold\", size=20)\n",
        "#Sub set plot\n",
        "plt.subplot(1, 2, 2)\n",
        "sns.countplot(data = data, x = 'adults', hue='is_canceled', palette='icefire')\n",
        "plt.title('Adults vs Cancelations',fontweight=\"bold\", size=20)\n",
        "\n",
        "#Adjust the subsets\n",
        "plt.subplots_adjust(right=1.7)\n",
        "\n",
        "#plot the visvulazation\n",
        "plt.show()\n"
      ],
      "metadata": {
        "id": "kuRf4wtuphqN"
      },
      "execution_count": null,
      "outputs": []
    },
    {
      "cell_type": "markdown",
      "source": [
        "##### 1. Why did you pick the specific chart?"
      ],
      "metadata": {
        "id": "bbFf2-_FphqN"
      }
    },
    {
      "cell_type": "markdown",
      "source": [
        "The countplot is preferred for analysis because it is specifically designed to show the frequency of categories. It’s an excellent tool for visualizing the distribution of categorical data, as it provides a clear and concise way to understand how many occurrences there are in each category. Here are some reasons why a countplot is beneficial:\n",
        "\n"
      ],
      "metadata": {
        "id": "loh7H2nzphqN"
      }
    },
    {
      "cell_type": "markdown",
      "source": [
        "##### 2. What is/are the insight(s) found from the chart?"
      ],
      "metadata": {
        "id": "_ouA3fa0phqN"
      }
    },
    {
      "cell_type": "markdown",
      "source": [
        "Pairs of adults showed a stronger preference for city hotels over resort hotels. Interestingly, more than half of these bookings were subsequently canceled."
      ],
      "metadata": {
        "id": "VECbqPI7phqN"
      }
    },
    {
      "cell_type": "markdown",
      "source": [
        "##### 3. Will the gained insights help creating a positive business impact?\n",
        "Are there any insights that lead to negative growth? Justify with specific reason."
      ],
      "metadata": {
        "id": "Seke61FWphqN"
      }
    },
    {
      "cell_type": "markdown",
      "source": [
        "Analyzing the insights provided:\n",
        "\n",
        "1. **Positive Business Impact**:\n",
        "   - The insight regarding **adult pairs preferring city hotels** suggests a market segment that could be targeted more effectively. Tailoring services and marketing strategies to appeal to couples could enhance their experience and increase bookings.\n",
        "   - Understanding this preference can also guide resource allocation, ensuring city hotels are well-equipped to meet the demands of this customer group.\n",
        "\n",
        "2. **Negative Growth Potential**:\n",
        "   - The fact that **more than half of these bookings were canceled** is a significant concern. It indicates a potential issue with customer satisfaction or expectations not being met.\n",
        "   - This trend could lead to negative growth if not addressed. The reasons behind these cancellations need to be investigated, whether they're related to pricing, services, or other factors. Once identified, strategies must be implemented to reduce cancellations and improve customer retention.\n",
        "\n",
        "In conclusion, while the insights have the potential to create a positive business impact by identifying a key customer segment, the high cancellation rate poses a risk to growth. Addressing the underlying causes of cancellations is crucial for turning this insight into a positive outcome."
      ],
      "metadata": {
        "id": "DW4_bGpfphqN"
      }
    },
    {
      "cell_type": "markdown",
      "source": [
        "#### Chart - 7 Type of marketing Segment and Type of distribuation Channel"
      ],
      "metadata": {
        "id": "PIIx-8_IphqN"
      }
    },
    {
      "cell_type": "code",
      "source": [
        "#Plot the size of plotter\n",
        "plt.figure(figsize=(15, 8))\n",
        "#Sub set plot\n",
        "plt.subplot(1, 2, 1)\n",
        "#Code for the plot\n",
        "\n",
        "sns.countplot(x='market_segment', data=data, palette='rocket')\n",
        "plt.title('Types of market segment',fontweight=\"bold\", size=20)\n",
        "\n",
        "#Sub set plot\n",
        "\n",
        "plt.subplot(1, 2, 2)\n",
        "\n",
        "#Code for the plot\n",
        "\n",
        "sns.countplot(data = data, x = 'distribution_channel',  palette='Set1_r')\n",
        "plt.title('Types of distribution channels',fontweight=\"bold\", size=20)\n",
        "\n",
        "#Adjust the subplot\n",
        "plt.subplots_adjust(right=1.7)\n",
        "\n",
        "#Plot the plotter\n",
        "\n",
        "plt.show()"
      ],
      "metadata": {
        "id": "CoCEsiUlU3d2"
      },
      "execution_count": null,
      "outputs": []
    },
    {
      "cell_type": "markdown",
      "source": [
        "##### 1. Why did you pick the specific chart?"
      ],
      "metadata": {
        "id": "t27r6nlMphqO"
      }
    },
    {
      "cell_type": "markdown",
      "source": [
        "Certainly! When considering a chart for market segments and distribution channels with categorical data, a **count plot** is an effective choice. By visualizing the frequency of each category, we can gain valuable insights into the distribution and patterns within these segments and channels"
      ],
      "metadata": {
        "id": "iv6ro40sphqO"
      }
    },
    {
      "cell_type": "markdown",
      "source": [
        "##### 2. What is/are the insight(s) found from the chart?"
      ],
      "metadata": {
        "id": "r2jJGEOYphqO"
      }
    },
    {
      "cell_type": "markdown",
      "source": [
        "Certainly! Based on the data, it's evident that the **majority of distribution channels and market segments** are represented by **travel agencies**, whether they operate **offline** or **online**. This insight suggests that allocating more resources and attention to this specific segment could be a strategic move. By focusing on travel agencies, businesses can tap into a significant portion of the market and potentially enhance their overall performance."
      ],
      "metadata": {
        "id": "Po6ZPi4hphqO"
      }
    },
    {
      "cell_type": "markdown",
      "source": [
        "##### 3. Will the gained insights help creating a positive business impact?\n",
        "Are there any insights that lead to negative growth? Justify with specific reason."
      ],
      "metadata": {
        "id": "b0JNsNcRphqO"
      }
    },
    {
      "cell_type": "markdown",
      "source": [
        "The insights gained from the data analysis can indeed create a positive business impact. Focusing on the majority distribution channels and market segments, which are travel agencies (both offline and online), can lead to targeted marketing strategies, improved customer engagement, and potentially higher sales conversions. By concentrating efforts on the most prevalent channels, businesses can optimize their resources and maximize their reach within the market.\n",
        "\n",
        "However, it’s important to consider that while these insights are valuable, they could also lead to negative growth if not managed properly. For instance, over-reliance on a single segment may result in vulnerability to market changes or disruptions in that segment. Additionally, neglecting other channels or segments could mean missing out on opportunities for diversification and growth in other areas.\n",
        "\n"
      ],
      "metadata": {
        "id": "xvSq8iUTphqO"
      }
    },
    {
      "cell_type": "markdown",
      "source": [
        "#### Chart - 8 - What is the types of deposit type"
      ],
      "metadata": {
        "id": "BZR9WyysphqO"
      }
    },
    {
      "cell_type": "code",
      "source": [
        "# Chart - 8 visualization code\n",
        "\n",
        "#Plot the size of plotter\n",
        "\n",
        "plt.figure(figsize=(12, 6))\n",
        "#Code for the plot\n",
        "\n",
        "sns.countplot(data = data, x = 'deposit_type',hue='hotel', palette='cool')\n",
        "\n",
        "plt.title('Types of Deposit type',fontweight=\"bold\", size=20)\n",
        "\n",
        "#Plot the plotter\n",
        "\n",
        "\n",
        "plt.show()"
      ],
      "metadata": {
        "id": "TdPTWpAVphqO"
      },
      "execution_count": null,
      "outputs": []
    },
    {
      "cell_type": "markdown",
      "source": [
        "##### 1. Why did you pick the specific chart?"
      ],
      "metadata": {
        "id": "jj7wYXLtphqO"
      }
    },
    {
      "cell_type": "markdown",
      "source": [
        "Certainly! When considering a chart for deposit type  and distribution channels\n",
        "\n",
        "\n",
        "\n",
        "with categorical data, a **count plot** is an effective choice. By visualizing the frequency of each category, we can gain valuable insights into the distribution and patterns within deposit type"
      ],
      "metadata": {
        "id": "Ob8u6rCTphqO"
      }
    },
    {
      "cell_type": "markdown",
      "source": [
        "##### 2. What is/are the insight(s) found from the chart?"
      ],
      "metadata": {
        "id": "eZrbJ2SmphqO"
      }
    },
    {
      "cell_type": "markdown",
      "source": [
        "\n",
        "**City hotels** did not require any deposits, whereas **resorts** had some deposits. This lack of deposit for city hotels could potentially lead to **booking cancellations**. Without a deposit, guests may be less committed to their reservations, and the hotel might face higher instances of no-shows or last-minute cancellations. To mitigate this risk, city hotels should consider implementing deposit policies or alternative methods to secure bookings effectively."
      ],
      "metadata": {
        "id": "mZtgC_hjphqO"
      }
    },
    {
      "cell_type": "markdown",
      "source": [
        "##### 3. Will the gained insights help creating a positive business impact?\n",
        "Are there any insights that lead to negative growth? Justify with specific reason."
      ],
      "metadata": {
        "id": "rFu4xreNphqO"
      }
    },
    {
      "cell_type": "markdown",
      "source": [
        "No Deposit for City Hotels vs. Deposits for Resorts:\n",
        "Positive Impact: City hotels not requiring deposits may attract more bookings initially due to the lack of financial commitment. This could lead to higher occupancy rates.\n",
        "Negative Growth Risk: Without deposits, city hotels face a higher risk of booking cancellations, no-shows, or last-minute changes. This can impact revenue and operational efficiency."
      ],
      "metadata": {
        "id": "ey_0qi68phqO"
      }
    },
    {
      "cell_type": "markdown",
      "source": [
        "#### Chart - 9 -Reapted Guest Conclusion"
      ],
      "metadata": {
        "id": "YJ55k-q6phqO"
      }
    },
    {
      "cell_type": "code",
      "source": [
        "#Plot the size of plotter\n",
        "plt.figure(figsize=(8,6))\n",
        "\n",
        "#Code for the plot\n",
        "\n",
        "sns.countplot(data = data, x = 'is_repeated_guest',palette='husl').set_title('Graph showing whether guest is repeated guest', fontsize = 20)\n",
        "\n",
        "\n",
        "#Plot the plotter\n",
        "\n",
        "plt.show()"
      ],
      "metadata": {
        "id": "B2aS4O1ophqO"
      },
      "execution_count": null,
      "outputs": []
    },
    {
      "cell_type": "markdown",
      "source": [
        "##### 1. Why did you pick the specific chart?"
      ],
      "metadata": {
        "id": "gCFgpxoyphqP"
      }
    },
    {
      "cell_type": "markdown",
      "source": [
        "Certainly! When considering a chart for repeated guest   and distribution channels\n",
        "\n",
        "\n",
        "\n",
        "with categorical data, a **count plot** is an effective choice. By visualizing the frequency of each category, we can gain valuable insights into the distribution and patterns within deposit type\n"
      ],
      "metadata": {
        "id": "TVxDimi2phqP"
      }
    },
    {
      "cell_type": "markdown",
      "source": [
        "##### 2. What is/are the insight(s) found from the chart?"
      ],
      "metadata": {
        "id": "OVtJsKN_phqQ"
      }
    },
    {
      "cell_type": "markdown",
      "source": [
        "**The data indicates a low frequency of repeat guests.** It highlights the importance of strategizing to engage these guests, as they have previously stayed and are familiar with the service offerings. Implementing targeted initiatives to encourage repeat visits can capitalize on their prior experience and potentially increase guest loyalty."
      ],
      "metadata": {
        "id": "ngGi97qjphqQ"
      }
    },
    {
      "cell_type": "markdown",
      "source": [
        "##### 3. Will the gained insights help creating a positive business impact?\n",
        "Are there any insights that lead to negative growth? Justify with specific reason."
      ],
      "metadata": {
        "id": "lssrdh5qphqQ"
      }
    },
    {
      "cell_type": "markdown",
      "source": [
        "The insights gathered can indeed contribute to a positive business impact, provided they are leveraged appropriately:\n",
        "\n",
        "1. **Low Frequency of Repeat Guests:**\n",
        "   - **Positive Impact:** Recognizing the low number of repeat guests presents an opportunity to develop targeted marketing strategies aimed at increasing customer retention. By focusing on repeat guests, businesses can enhance loyalty and secure a more stable revenue stream.\n",
        "   - **Negative Growth Risk:** If the low frequency of repeat guests is not addressed, it could indicate a lack of guest satisfaction or engagement, potentially leading to a decline in brand reputation and customer base.\n",
        "\n",
        "2. **Need to Target Repeat Guests:**\n",
        "   - **Positive Impact:** Since repeat guests have previously booked, they are likely to have a higher lifetime value. By targeting them, businesses can improve the efficiency of their marketing efforts and increase the likelihood of repeat bookings.\n",
        "   - **Negative Growth Risk:** Over-focusing on repeat guests at the expense of acquiring new customers could limit market expansion and lead to a plateau in growth. It's important to balance retention strategies with efforts to attract new guests.\n",
        "\n"
      ],
      "metadata": {
        "id": "tBpY5ekJphqQ"
      }
    },
    {
      "cell_type": "markdown",
      "source": [
        "#### Chart - 10 - ADR comparision over the year Beetween resort hotel and City Hotel"
      ],
      "metadata": {
        "id": "U2RJ9gkRphqQ"
      }
    },
    {
      "cell_type": "code",
      "source": [
        "# Chart - 10 visualization code\n",
        "#Set plot size\n",
        "plt.figure(figsize=(18,8))\n",
        "#Code for the visualization\n",
        "sns.lineplot(x='arrival_date_month', y='adr', hue='hotel',markers=True, data= data)\n",
        "#Plot the  plotter\n",
        "plt.show()"
      ],
      "metadata": {
        "id": "GM7a4YP4phqQ"
      },
      "execution_count": null,
      "outputs": []
    },
    {
      "cell_type": "markdown",
      "source": [
        "##### 1. Why did you pick the specific chart?"
      ],
      "metadata": {
        "id": "1M8mcRywphqQ"
      }
    },
    {
      "cell_type": "markdown",
      "source": [
        "Certainly! Here's a revised version of your sentence:\n",
        "\n",
        "We need to analyze the trends in ADR (Average Daily Rate) over different months. For this purpose, a line chart is the most suitable visualization method to observe the trend over the specified time period."
      ],
      "metadata": {
        "id": "8agQvks0phqQ"
      }
    },
    {
      "cell_type": "markdown",
      "source": [
        "##### 2. What is/are the insight(s) found from the chart?"
      ],
      "metadata": {
        "id": "tgIPom80phqQ"
      }
    },
    {
      "cell_type": "markdown",
      "source": [
        "\n",
        "1. **Resort Hotel ADR Trends:**\n",
        "   - During the months of **July, August, and September**, the **average daily rate (ADR)** for resort hotels is **higher**. This suggests that these months are peak seasons or have increased demand, leading to elevated prices.\n",
        "   - Conversely, for **city hotels**, the ADR is **slightly higher** during **March, April, and May**. These months may correspond to specific events, holidays, or favorable weather conditions in city destinations.\n",
        "\n",
        "2. **Low ADR in November and January for Resort Hotels:**\n",
        "   - In contrast, the ADR for resort hotels is **lower** in the months of **November and January**. These periods might be off-peak seasons, resulting in more competitive pricing or discounts to attract guests.\n",
        "\n"
      ],
      "metadata": {
        "id": "Qp13pnNzphqQ"
      }
    },
    {
      "cell_type": "markdown",
      "source": [
        "##### 3. Will the gained insights help creating a positive business impact?\n",
        "Are there any insights that lead to negative growth? Justify with specific reason."
      ],
      "metadata": {
        "id": "JMzcOPDDphqR"
      }
    },
    {
      "cell_type": "markdown",
      "source": [
        "\n",
        "1. **High ADR During Peak Seasons:**\n",
        "   - **Positive Impact:** Understanding that the ADR is higher during peak seasons (July, August, September for resorts, and March, April, May for city hotels) allows for strategic pricing and revenue management. This can lead to maximized profits during times of high demand.\n",
        "   - **Negative Growth Risk:** If the increased ADR during these months is not accompanied by adequate service or value, it could lead to customer dissatisfaction and negative reviews, which can harm the hotel's reputation and future business.\n",
        "\n",
        "2. **Low ADR During Off-Peak Seasons:**\n",
        "   - **Positive Impact:** The lower ADR in November and January for resort hotels indicates an opportunity to attract budget-conscious travelers. Special promotions or packages during these months can increase occupancy and offset the lower rates.\n",
        "   - **Negative Growth Risk:** If the low ADR is perceived as a reflection of poor quality or service, it could deter guests. Additionally, if the reduced rates are not managed properly, they could lead to decreased overall revenue.\n",
        "\n",
        "In conclusion, while the insights can help in creating a positive business impact by informing pricing strategies, they also carry risks if not implemented thoughtfully. It's crucial to balance pricing with value offered and to manage perceptions to ensure that any pricing strategy contributes to long-term growth and customer satisfaction."
      ],
      "metadata": {
        "id": "R4Ka1PC2phqR"
      }
    },
    {
      "cell_type": "markdown",
      "source": [
        "#### Chart - 11 - What is the Booking Cancelation over the year"
      ],
      "metadata": {
        "id": "x-EpHcCOp1ci"
      }
    },
    {
      "cell_type": "code",
      "source": [
        "df3 = data[data['is_canceled']==1]\n",
        "\n",
        "plt.figure(figsize=(15,7))\n",
        "sns.set_style('whitegrid')\n",
        "plt.rc('font',size=15)\n",
        "sns.countplot(x=df3['arrival_date_year'],hue=df3['hotel'])\n",
        "plt.legend()\n",
        "plt.title('Year wise Booking Cancelation',fontsize=20)\n",
        "plt.xlabel('year',fontsize=20)\n",
        "plt.ylabel('No. of bookings Cancelation',fontsize=20)\n",
        "plt.show()"
      ],
      "metadata": {
        "id": "ZinceMq63Ca8"
      },
      "execution_count": null,
      "outputs": []
    },
    {
      "cell_type": "markdown",
      "source": [
        "##### 1. Why did you pick the specific chart?"
      ],
      "metadata": {
        "id": "X_VqEhTip1ck"
      }
    },
    {
      "cell_type": "markdown",
      "source": [
        "We need to  plot the year wise cancealtions count so  bar chart is the right chart to  plot the count of cancelattions booking"
      ],
      "metadata": {
        "id": "-vsMzt_np1ck"
      }
    },
    {
      "cell_type": "markdown",
      "source": [
        "##### 2. What is/are the insight(s) found from the chart?"
      ],
      "metadata": {
        "id": "8zGJKyg5p1ck"
      }
    },
    {
      "cell_type": "markdown",
      "source": [
        "Based on our chat, it seems that there were high cancellation rates in both the City Hotel and Resort Hotel in the year 2016. Conversely, the lowest cancellation rates were observed in 2015. Therefore, we should focus on understanding the reasons behind the high cancellation rates in 2016."
      ],
      "metadata": {
        "id": "ZYdMsrqVp1ck"
      }
    },
    {
      "cell_type": "markdown",
      "source": [
        "##### 3. Will the gained insights help creating a positive business impact?\n",
        "Are there any insights that lead to negative growth? Justify with specific reason."
      ],
      "metadata": {
        "id": "PVzmfK_Ep1ck"
      }
    },
    {
      "cell_type": "markdown",
      "source": [
        "Certainly! Let's evaluate the insights gained from our analysis and their potential impact on the hotel business:\n",
        "\n",
        "1. **Positive Business Impact**:\n",
        "   - **Understanding Cancellation Trends**: The insights regarding cancellation rates in 2015 and 2016 can significantly benefit hotel management. By understanding these patterns, hotels can make informed decisions to optimize their operations.\n",
        "   - **Tailoring Strategies**: Armed with this information, hotels can tailor their pricing strategies, booking policies, and marketing efforts. For instance:\n",
        "     - **Dynamic Pricing**: Adjusting room rates based on demand can help maximize revenue. If high cancellation rates correlate with high prices, hotels can consider offering discounts during off-peak periods.\n",
        "     - **Booking Policies**: Implementing flexible booking policies (e.g., free cancellation up to a certain date) can attract more guests and reduce cancellations.\n",
        "     - **Marketing Campaigns**: Targeted marketing campaigns can address specific customer segments and encourage direct bookings, reducing reliance on offline travel agents.\n",
        "\n",
        "2. **Potential Negative Impact**:\n",
        "   - **Revenue Loss**: High cancellation rates directly impact revenue. Empty rooms due to cancellations mean lost income. Hotels need to strike a balance between flexibility (to attract bookings) and minimizing cancellations.\n",
        "   - **Operational Challenges**: Managing cancellations requires resources (staff time, system updates, etc.). Frequent cancellations can strain hotel operations.\n",
        "   - **Guest Experience**: Frequent cancellations affect guest experience. Guests may perceive instability if they see many canceled bookings.\n",
        "\n",
        "3. **Justification**:\n",
        "   - **Negative Growth**: The high cancellation rates in 2016 could lead to negative growth if not addressed. Revenue loss and operational challenges are clear risks.\n",
        "   - **Mitigation Strategies**: To mitigate these negative impacts:\n",
        "     - **Data-Driven Decisions**: Hotels should use data to refine their strategies.\n",
        "     - **Customer Communication**: Clear communication about booking policies can manage guest expectations.\n",
        "     - **Overbooking**: Implementing controlled overbooking (within reasonable limits) can compensate for cancellations.\n",
        "\n",
        "\n",
        "---\n"
      ],
      "metadata": {
        "id": "druuKYZpp1ck"
      }
    },
    {
      "cell_type": "markdown",
      "source": [
        "#### Chart - 12"
      ],
      "metadata": {
        "id": "n3dbpmDWp1ck"
      }
    },
    {
      "cell_type": "code",
      "source": [
        "data_resort = data[(data['hotel'] == 'Resort Hotel') & (data['is_canceled'] == 0)]\n",
        "\n",
        "resort_hotel = data_resort.groupby(['arrival_date_month'])['adr'].mean().reset_index()\n",
        "\n",
        "months_order = [\"January\", \"February\", \"March\", \"April\", \"May\", \"June\", \"July\", \"August\", \"September\", \"October\", \"November\", \"December\"]\n",
        "\n",
        "resort_hotel['arrival_date_month'] = pd.Categorical(resort_hotel['arrival_date_month'], categories=months_order, ordered=True)\n",
        "\n",
        "df_sorted_resort = resort_hotel.sort_values(by='arrival_date_month')\n",
        "\n",
        "df_sorted_resort"
      ],
      "metadata": {
        "id": "Ahrm9D_4MESy"
      },
      "execution_count": null,
      "outputs": []
    },
    {
      "cell_type": "code",
      "source": [
        "# Chart - 12 visualization code\n",
        "\n",
        "#Plot the size of plotter\n",
        "plt.figure(figsize=(18, 8))\n",
        "#Code for the visualization\n",
        "sns.lineplot(x='arrival_date_month', y='adr',  markers=True, data= df_sorted_resort)\n",
        "\n",
        "\n",
        "#Plot the plot\n",
        "plt.show()"
      ],
      "metadata": {
        "id": "bwevp1tKp1ck"
      },
      "execution_count": null,
      "outputs": []
    },
    {
      "cell_type": "markdown",
      "source": [
        "##### 1. Why did you pick the specific chart?"
      ],
      "metadata": {
        "id": "ylSl6qgtp1ck"
      }
    },
    {
      "cell_type": "markdown",
      "source": [
        " a line chart provides a visual representation of how ADR varies over time. It can help hotel management make informed decisions based on these trends.\n",
        "\n"
      ],
      "metadata": {
        "id": "m2xqNkiQp1ck"
      }
    },
    {
      "cell_type": "markdown",
      "source": [
        "##### 2. What is/are the insight(s) found from the chart?"
      ],
      "metadata": {
        "id": "ZWILFDl5p1ck"
      }
    },
    {
      "cell_type": "markdown",
      "source": [
        "August: The highest Average Daily Rate (ADR) occurs in August. This could be due to peak tourist seasons, special events, or other factors that drive up room rates during this month.\n",
        "January to March: Conversely, the ADR is lowest during the first quarter of the year (January to March). Possible reasons for this include off-peak travel periods, fewer bookings, or promotional pricing."
      ],
      "metadata": {
        "id": "x-lUsV2mp1ck"
      }
    },
    {
      "cell_type": "markdown",
      "source": [
        "##### 3. Will the gained insights help creating a positive business impact?\n",
        "Are there any insights that lead to negative growth? Justify with specific reason."
      ],
      "metadata": {
        "id": "M7G43BXep1ck"
      }
    },
    {
      "cell_type": "markdown",
      "source": [
        "Certainly! Let's summarize the insights from the line chart:\n",
        "\n",
        "1. **ADR Trends by Month**:\n",
        "   - **August**: The highest Average Daily Rate (ADR) occurs in August. This could be due to peak tourist seasons, special events, or other factors that drive up room rates during this month.\n",
        "   - **January to March**: Conversely, the ADR is lowest during the first quarter of the year (January to March). Possible reasons for this include off-peak travel periods, fewer bookings, or promotional pricing.\n",
        "\n",
        "2. **Business Implications**:\n",
        "   - **August Optimization**: Hotels can capitalize on the high ADR in August by offering attractive packages, enhancing guest experiences, and promoting exclusive amenities.\n",
        "   - **First Quarter Strategies**: During the low ADR months (January to March), hotels can consider:\n",
        "     - **Promotions**: Offering discounts or bundled deals to attract guests.\n",
        "     - **Events**: Hosting events or conferences to boost occupancy.\n",
        "     - **Marketing**: Targeted marketing campaigns to increase bookings.\n",
        "\n",
        "\n",
        "---\n"
      ],
      "metadata": {
        "id": "5wwDJXsLp1cl"
      }
    },
    {
      "cell_type": "markdown",
      "source": [
        "#### Chart - 13 - Adr over the moths"
      ],
      "metadata": {
        "id": "Ag9LCva-p1cl"
      }
    },
    {
      "cell_type": "code",
      "source": [
        "data_city = data[(data['hotel'] == 'City Hotel') & (data['is_canceled'] == 0)]\n",
        "\n",
        "city_hotel = data_city.groupby(['arrival_date_month'])['adr'].mean().reset_index()\n",
        "\n",
        "months_order = [\"January\", \"February\", \"March\", \"April\", \"May\", \"June\", \"July\", \"August\", \"September\", \"October\", \"November\", \"December\"]\n",
        "\n",
        "city_hotel['arrival_date_month'] = pd.Categorical(city_hotel['arrival_date_month'], categories=months_order, ordered=True)\n",
        "\n",
        "df_sorted_city = city_hotel.sort_values(by='arrival_date_month')\n",
        "\n",
        "df_sorted_city\n",
        "\n"
      ],
      "metadata": {
        "id": "bYHWXkxjT0B0"
      },
      "execution_count": null,
      "outputs": []
    },
    {
      "cell_type": "code",
      "source": [
        "# Chart - 13 visualization code\n",
        "\n",
        "#Plot the size of plotter\n",
        "plt.figure(figsize=(20, 8))\n",
        "#Code for the visualization\n",
        "sns.lineplot(x='arrival_date_month', y='adr', markers=True, data= df_sorted_city)\n",
        "\n",
        "\n",
        "#Plot the plot\n",
        "plt.show()\n"
      ],
      "metadata": {
        "id": "EUfxeq9-p1cl"
      },
      "execution_count": null,
      "outputs": []
    },
    {
      "cell_type": "markdown",
      "source": [
        "##### 1. Why did you pick the specific chart?"
      ],
      "metadata": {
        "id": "E6MkPsBcp1cl"
      }
    },
    {
      "cell_type": "markdown",
      "source": [
        " a line chart provides a visual representation of how ADR varies over time. It can help hotel management make informed decisions based on these trends.\n"
      ],
      "metadata": {
        "id": "V22bRsFWp1cl"
      }
    },
    {
      "cell_type": "markdown",
      "source": [
        "##### 2. What is/are the insight(s) found from the chart?"
      ],
      "metadata": {
        "id": "2cELzS2fp1cl"
      }
    },
    {
      "cell_type": "markdown",
      "source": [
        "In the first quarter of the year, we have low ADR. From May to August, we experience high ADR, ranging from 115 to 120.\n",
        "\n",
        "---\n",
        "\n",
        "\n",
        "\n",
        "---\n",
        "\n"
      ],
      "metadata": {
        "id": "ozQPc2_Ip1cl"
      }
    },
    {
      "cell_type": "markdown",
      "source": [
        "##### 3. Will the gained insights help creating a positive business impact?\n",
        "Are there any insights that lead to negative growth? Justify with specific reason."
      ],
      "metadata": {
        "id": "3MPXvC8up1cl"
      }
    },
    {
      "cell_type": "markdown",
      "source": [
        "Certainly! Let's evaluate the insights and their potential impact on the hotel business:\n",
        "\n",
        "1. **Positive Business Impact**:\n",
        "   - **High ADR in May to August**: The insight that ADR is high from May to August presents a positive business opportunity. Hotels can leverage this by:\n",
        "     - Offering premium services during peak tourist seasons.\n",
        "     - Promoting special events or packages to attract guests.\n",
        "     - Maximizing revenue through strategic pricing.\n",
        "\n",
        "2. **Negative Growth Considerations**:\n",
        "   - **Low ADR in the First Quarter**: The low ADR during the first quarter (January to March) could lead to negative growth. Here's why:\n",
        "     - **Revenue Impact**: Lower ADR means reduced revenue per room. Hotels need to find ways to offset this.\n",
        "     - **Operational Challenges**: Managing operations during off-peak periods can be difficult. Fixed costs (staffing, maintenance) remain constant.\n",
        "     - **Guest Perception**: Frequent discounts or low rates might affect guest perception of the hotel's quality.\n",
        "\n",
        "\n",
        "\n",
        "---\n"
      ],
      "metadata": {
        "id": "GL8l1tdLp1cl"
      }
    },
    {
      "cell_type": "markdown",
      "source": [
        "#### Chart - 14 - Correlation Heatmap"
      ],
      "metadata": {
        "id": "NC_X3p0fY2L0"
      }
    },
    {
      "cell_type": "code",
      "source": [
        "\n",
        "for col in data.columns:\n",
        "    if data[col].dtype == \"object\":\n",
        "        data[col] = data[col].astype(\"category\").cat.codes\n",
        "\n",
        "plt.figure(figsize=(28, 28))  # Adjust the figure size as needed\n",
        "sns.heatmap(data.corr(), cmap=\"YlGnBu\", annot=True)\n",
        "plt.show()\n"
      ],
      "metadata": {
        "id": "mzUYqbFXdjBx"
      },
      "execution_count": null,
      "outputs": []
    },
    {
      "cell_type": "markdown",
      "source": [
        "##### 1. Why did you pick the specific chart?"
      ],
      "metadata": {
        "id": "UV0SzAkaZNRQ"
      }
    },
    {
      "cell_type": "markdown",
      "source": [
        "A heatmap is a graphical representation that uses color intensity to display the correlation matrix of a set of variables.\n",
        "It provides a visual summary of how strongly different variables are related to each other.\n",
        "The color scale (usually ranging from cool to warm colors) indicates the strength of correlation: darker colors represent stronger positive or negative correlations."
      ],
      "metadata": {
        "id": "DVPuT8LYZNRQ"
      }
    },
    {
      "cell_type": "markdown",
      "source": [
        "##### 2. What is/are the insight(s) found from the chart?"
      ],
      "metadata": {
        "id": "YPEH6qLeZNRQ"
      }
    },
    {
      "cell_type": "markdown",
      "source": [
        "\n",
        "1. **Positive Correlation Between Arrival Date Year and Reservation Date**:\n",
        "   - The arrival date year and reservation date exhibit a strong positive correlation. This suggests that as the arrival date year increases, so does the reservation date. In other words, bookings tend to be made well in advance for future years.\n",
        "   - Business Implication: Hotels can use this insight to optimize their booking processes, allocate resources efficiently, and plan for peak seasons.\n",
        "\n",
        "2. **Negative Correlation Between Cancelled Status and Reservation Status**:\n",
        "   - The negative correlation between cancelled status and reservation status indicates an interesting relationship. When reservations are canceled, the reservation status naturally changes.\n",
        "   - Business Implication: Hotels should closely monitor cancellation rates and implement strategies to reduce them. Improving guest satisfaction, offering flexible cancellation policies, and managing overbooking can help mitigate cancellations.\n",
        "\n",
        "\n"
      ],
      "metadata": {
        "id": "bfSqtnDqZNRR"
      }
    },
    {
      "cell_type": "markdown",
      "source": [
        "#### Chart - 15 - Pair Plot"
      ],
      "metadata": {
        "id": "q29F0dvdveiT"
      }
    },
    {
      "cell_type": "code",
      "source": [
        "sns.pairplot(data,  hue= \"hotel\", palette= \"rocket\")"
      ],
      "metadata": {
        "id": "o58-TEIhveiU"
      },
      "execution_count": null,
      "outputs": []
    },
    {
      "cell_type": "markdown",
      "source": [
        "##### 1. Why did you pick the specific chart?"
      ],
      "metadata": {
        "id": "EXh0U9oCveiU"
      }
    },
    {
      "cell_type": "markdown",
      "source": [
        "Multivariate Analysis: Pair plots provide a snapshot of how each variable in a dataset is related to every other variable. This is particularly useful for hotel booking data, which often includes numerous variables like stay duration, number of guests, room type, and booking rates.\n",
        "\n",
        "Identifying Correlations: They help in identifying potential correlations or patterns between different variables, such as the relationship between the length of stay and the average daily rate (ADR). This can be crucial for understanding factors that influence hotel bookings.\n",
        "\n",
        "Spotting Trends and Outliers: Pair plots can reveal trends and outliers across different combinations of variables. For instance, you might spot unusual booking patterns or rare combinations of features that could signify special cases in the data."
      ],
      "metadata": {
        "id": "eMmPjTByveiU"
      }
    },
    {
      "cell_type": "markdown",
      "source": [
        "##### 2. What is/are the insight(s) found from the chart?"
      ],
      "metadata": {
        "id": "22aHeOlLveiV"
      }
    },
    {
      "cell_type": "markdown",
      "source": [
        "Correlation Patterns: Strong correlations between variables such as room rates and customer ratings, indicating that higher-rated rooms tend to be more expensive.\n",
        "\n",
        "Booking Trends: Seasonal trends in bookings, with certain times of the year showing higher occupancy rates, which could be useful for pricing and marketing strategies.\n",
        "\n",
        "Customer Segmentation: Clusters of data points that suggest different customer segments, such as business travelers vs. leisure travelers, based on booking patterns and preferences.\n",
        "\n",
        "Outliers: Unusual data points that stand out from the rest, which could indicate special events or errors in the data.\n",
        "\n",
        "Variable Distributions: The distribution of individual variables, like the length of stay, which might show that most bookings are for short durations."
      ],
      "metadata": {
        "id": "uPQ8RGwHveiV"
      }
    },
    {
      "cell_type": "markdown",
      "source": [
        "## **5. Solution to Business Objective**"
      ],
      "metadata": {
        "id": "JcMwzZxoAimU"
      }
    },
    {
      "cell_type": "markdown",
      "source": [
        "#### What do you suggest the client to achieve Business Objective ?\n",
        "Explain Briefly."
      ],
      "metadata": {
        "id": "8G2x9gOozGDZ"
      }
    },
    {
      "cell_type": "markdown",
      "source": [
        "Certainly! Let's address the business objectives derived from the insights and provide solutions for each:\n",
        "\n",
        "1. **Revenue Optimization**:\n",
        "   - **Objective**: Maximize revenue by strategically adjusting prices to match travel demand, outperform the competition, increase profits, and improve hotel performance year-over-year².\n",
        "   - **Solutions**:\n",
        "     - **Dynamic Pricing**: Use revenue management software to optimize room rates based on demand and market conditions.\n",
        "     - **Customized Rates**: Create customized product rates and rules that align with your hotel's value proposition¹.\n",
        "     - **Promotions**: Offer special packages during peak seasons (May to August) to attract guests and maximize revenue³.\n",
        "\n",
        "2. **Cancellation Management**:\n",
        "   - **Objective**: Minimize cancellations to prevent revenue loss.\n",
        "   - **Solutions**:\n",
        "     - **Advance Payments**: Take advance payments during reservations to discourage cancellations.\n",
        "     - **Strict Refund Policies**: Implement no-refund or strict refund policies to incentivize guests to keep their bookings.\n",
        "     - **Monitoring**: Continuously monitor cancellation rates and adjust strategies as needed¹.\n",
        "\n",
        "3. **Guest Experience Enhancement**:\n",
        "   - **Objective**: Improve guest satisfaction and encourage repeat visits.\n",
        "   - **Solutions**:\n",
        "     - **Targeted Advertising**: Tailor advertising to attract couples and business travelers, emphasizing amenities and experiences relevant to their needs.\n",
        "     - **Loyalty Programs**: Offer special benefits (discounts, upgrades, loyalty points) to returning guests.\n",
        "     - **Personalization**: Use guest data to personalize interactions and enhance their overall experience⁴.\n",
        "\n",
        "4. **Operational Efficiency**:\n",
        "   - **Objective**: Optimize resource allocation and operational processes.\n",
        "   - **Solutions**:\n",
        "     - **Staffing**: Plan staffing based on booking trends, ensuring adequate coverage during peak and off-peak periods.\n",
        "     - **Maintenance**: Efficiently manage maintenance tasks during low-demand periods.\n",
        "     - **Cross-Department Collaboration**: Foster collaboration between departments (e.g., sales, marketing, operations) to streamline processes and improve efficiency¹.\n",
        "\n",
        "By implementing these solutions, hotels can achieve positive growth, enhance guest satisfaction, and operate more efficiently.\n",
        "\n",
        "---\n"
      ],
      "metadata": {
        "id": "pASKb0qOza21"
      }
    },
    {
      "cell_type": "markdown",
      "source": [
        "# **Conclusion**"
      ],
      "metadata": {
        "id": "gCX9965dhzqZ"
      }
    },
    {
      "cell_type": "markdown",
      "source": [
        "Certainly! Let's rephrase the insights based on the information provided:\n",
        "\n",
        "1. **Resort Hotels**:\n",
        "   - **Marketing Strategy**: Resort hotels should focus on improving their marketing efforts. Promoting the hotels, especially through social media, can attract more guests.\n",
        "   - **Price Optimization**: Consider reducing prices strategically to increase booking percentages. Competitive pricing can encourage more reservations.\n",
        "\n",
        "2. **Peak Months (May-August)**:\n",
        "   - **Business Opportunity**: May to August is the busiest period. Hotels should actively target customers during these months to maximize revenue.\n",
        "   - **Seasonal Promotions**: Special offers, events, and packages can attract guests during peak seasons.\n",
        "\n",
        "3. **City Hotels**:\n",
        "   - **Booking vs. Cancellation**: Although city hotels have more bookings, they also face higher cancellation rates.\n",
        "   - **Mitigation Strategies**:\n",
        "     - **Advance Payments**: Taking advance payments during reservations can reduce cancellations.\n",
        "     - **Strict Refund Policies**: Implementing no-refund or strict refund policies can discourage cancellations.\n",
        "\n",
        "4. **Guest Demographics**:\n",
        "   - **Couples and Business Travelers**: Most guests travel in pairs, and bringing children or babies is rare. Hotels can tailor advertising to attract couples and business travelers.\n",
        "   - **Repeat Guests**: While most guests do not return, hotels can create targeted advertisements to encourage return visits. Offering special benefits to returning guests can enhance loyalty.\n",
        "\n",
        "In summary, a combination of effective marketing, pricing strategies, and guest-focused policies can positively impact hotel bookings and guest satisfaction.\n",
        "\n",
        "---\n"
      ],
      "metadata": {
        "id": "Fjb1IsQkh3yE"
      }
    },
    {
      "cell_type": "markdown",
      "source": [
        "### ***Hurrah! You have successfully completed your EDA Capstone Project !!!***"
      ],
      "metadata": {
        "id": "gIfDvo9L0UH2"
      }
    }
  ]
}